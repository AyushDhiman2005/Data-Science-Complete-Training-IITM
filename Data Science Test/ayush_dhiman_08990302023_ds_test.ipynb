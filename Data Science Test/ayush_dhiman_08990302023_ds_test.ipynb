{
 "cells": [
  {
   "cell_type": "markdown",
   "id": "8801e774-e571-412d-9380-2117c380299d",
   "metadata": {},
   "source": []
  },
  {
   "cell_type": "markdown",
   "id": "70d0e7ff-355e-4023-82af-9ffd1e3a317b",
   "metadata": {},
   "source": []
  },
  {
   "cell_type": "code",
   "execution_count": null,
   "id": "670ba9bc-08f2-46d6-aba7-7afc66b8a1f5",
   "metadata": {},
   "outputs": [],
   "source": [
    "'''\n",
    "Answer:1\n",
    "main different between list and tuple:-\n",
    "1. Data mutability :  List is a mutable data type and Tuple is an immutable data type\n",
    "2. Parenthesis : List is enclosed with closed brackets [] \n",
    "    where as tuple are stored with open brackets ().\n",
    "    \n",
    "Taking an example:-\n",
    "'''\n",
    "myList = [1,2,3,4,5]\n",
    "myTuple = (1,2,3,4,5)\n",
    "myList[2]=9\n",
    "print(myList)#this will run \n",
    "\n",
    "myTyple[3]=7#it will give an error\n",
    "print(myTyple)#error occurs"
   ]
  },
  {
   "cell_type": "code",
   "execution_count": 1,
   "id": "9474f0e5-12f7-472f-b7b4-92e01307ca25",
   "metadata": {},
   "outputs": [
    {
     "name": "stdin",
     "output_type": "stream",
     "text": [
      "Enter a number: 12\n"
     ]
    },
    {
     "name": "stdout",
     "output_type": "stream",
     "text": [
      "<class 'int'>\n"
     ]
    }
   ],
   "source": [
    "'''\n",
    "Answer:2\n",
    "input() function is an inbuilt function that takes user input\n",
    "input() function returns a string data type value\n",
    "In order to convert it into an integer type casting is performed\n",
    "'''\n",
    "#example:\n",
    "myNumber = input(\"Enter a number:\")\n",
    "myNumber=int(myNumber)\n",
    "print(type(myNumber))\n",
    "\n"
   ]
  },
  {
   "cell_type": "code",
   "execution_count": null,
   "id": "6bcddd4d-24a2-404e-a766-3607fcdd739f",
   "metadata": {},
   "outputs": [],
   "source": [
    "'''\n",
    "Answer :3\n",
    "python dictionaries are used to store the data in key : value pair. Value can be accessed using its key value\n",
    "'''\n",
    "\n",
    "#Creating a dictionary with 3 key value pair\n",
    "myDict = {\n",
    "1:'January',\n",
    "2:'Feburary',\n",
    "3:'March'\n",
    "}"
   ]
  },
  {
   "cell_type": "code",
   "execution_count": 2,
   "id": "0c6761d6-60a4-40ef-a109-b16d6673ebca",
   "metadata": {},
   "outputs": [
    {
     "name": "stdout",
     "output_type": "stream",
     "text": [
      "1\n",
      "2\n",
      "3\n",
      "4\n",
      "5\n"
     ]
    }
   ],
   "source": [
    "'''\n",
    "Answer :4\n",
    "for loop is used to generate a specific amount of iterations.\n",
    "we can adjust its range via start value, stop value, step value\n",
    "'''\n",
    "\n",
    "#An example that shows a for loop printing numbers 1 to 5\n",
    "\n",
    "startValue=1\n",
    "stopValue=6#in order to print till 5 we need to assign stop value +1\n",
    "stepValue=1\n",
    "for i in range(startValue,stopValue,stepValue):\n",
    "    print(i)\n",
    "\n",
    "\n"
   ]
  },
  {
   "cell_type": "code",
   "execution_count": 7,
   "id": "ebb1d7df-0268-444e-a05c-dbcab384b099",
   "metadata": {},
   "outputs": [
    {
     "name": "stdin",
     "output_type": "stream",
     "text": [
      "Ener a number: abc\n"
     ]
    },
    {
     "name": "stdout",
     "output_type": "stream",
     "text": [
      "invalid literal for int() with base 10: 'abc'\n",
      "answer:0\n",
      "Program Terminated...\n"
     ]
    }
   ],
   "source": [
    "'''\n",
    "Answer 5:-\n",
    "Exception Handeling is used to handle un wanted errors.\n",
    "try: this statement contains the code to be excecuted that may return error\n",
    "except: It contains the message about the error like what type of error occured and causes etc. if try block runs without error then the interpretor skip the except block.\n",
    "finally: this block must run either exception occurs or nor.\n",
    "'''\n",
    "#taking an example:-\n",
    "number_to_divide=50\n",
    "\n",
    "answer=0\n",
    "try:\n",
    "    divisor = int(input(\"Ener a number:\"))\n",
    "    print(f\"dividing {number_to_divide} by {divisor}\")\n",
    "    answer=number_to_divide/divisor\n",
    "    \n",
    "except Exception as e:\n",
    "    print(e)\n",
    "finally:\n",
    "    print(f\"answer:{answer}\")\n",
    "    print(\"Program Terminated...\")"
   ]
  },
  {
   "cell_type": "code",
   "execution_count": null,
   "id": "61bee793-932a-4f6d-a142-dfd91583063c",
   "metadata": {},
   "outputs": [],
   "source": [
    "'''\n",
    "Answer 6:-\n",
    "python modules are python files that contains multiple functions that can be import into another python files \n",
    "\n",
    "import math : it will import the entire module \n",
    "in order to use sqrt function we apply \n",
    "import math as m\n",
    "m.sqrt()\n",
    "\n",
    "fron math import sqrt: It will import only sqrt function from math module\n",
    "sqrt()\n",
    "'''"
   ]
  },
  {
   "cell_type": "code",
   "execution_count": null,
   "id": "91854be6-e071-40b7-b401-7c66eb6d245b",
   "metadata": {},
   "outputs": [],
   "source": [
    "'''\n",
    "Answer 7:-\n",
    "Object oriented programming deals with object and classes. \n",
    "Object oriented programming helps to create a class and multiple objects to store multiple data\n",
    "\n",
    "classes: classes are template or blueprints that an object follows.\n",
    "\n",
    "Object: Objects are instance of an class. methods of class can be used once an object is initialised.\n",
    "'''\n",
    "#creating a class car that contains several function\n",
    "class Car:\n",
    "    def engineOn(self):\n",
    "        print(\"Engine is starting...\")\n",
    "    def brake(self):\n",
    "        print(\"Speed is decreasing by 10 kmp/h\")\n",
    "bmw=Car()\n",
    "audi=Car()\n",
    "bmw.engineOn()\n",
    "audi.brake()\n"
   ]
  },
  {
   "cell_type": "code",
   "execution_count": null,
   "id": "1af2f575-a908-41de-9cd5-82f045257227",
   "metadata": {},
   "outputs": [],
   "source": [
    "'''\n",
    "Answer :8\n",
    "'''\n",
    "\n",
    "'''\n",
    "given code:-\n",
    "result = []\n",
    "for x in range(10):\n",
    "if x % 2 == 0:\n",
    "result.append(x * 2)\n",
    "\n",
    "'''\n"
   ]
  },
  {
   "cell_type": "code",
   "execution_count": 9,
   "id": "7b904f3c-fd86-4c1e-addf-b88dbadf80df",
   "metadata": {},
   "outputs": [
    {
     "name": "stdin",
     "output_type": "stream",
     "text": [
      "Enter the radius: 5\n"
     ]
    },
    {
     "name": "stdout",
     "output_type": "stream",
     "text": [
      "78.5 square unit\n"
     ]
    }
   ],
   "source": [
    "'''\n",
    "Answer 9:-\n",
    "'''\n",
    "def calculateArea():\n",
    "    circle_radius=float(input(\"Enter the radius:\"))\n",
    "    #area = pie r^2\n",
    "    pie = 3.14\n",
    "    area = pie * circle_radius * circle_radius\n",
    "    return area\n",
    "\n",
    "#Testing my function with input radius =5\n",
    "\n",
    "answer=calculateArea()\n",
    "print(f\"{answer} square unit\")"
   ]
  },
  {
   "cell_type": "code",
   "execution_count": 10,
   "id": "03d71b64-7ead-44bb-b791-62d9d60f2662",
   "metadata": {},
   "outputs": [
    {
     "name": "stdin",
     "output_type": "stream",
     "text": [
      "Enter your name: ayush\n",
      "Enter your age: 20\n"
     ]
    },
    {
     "name": "stdout",
     "output_type": "stream",
     "text": [
      "Hello ayush, you are 20 years old!\n"
     ]
    }
   ],
   "source": [
    "'''\n",
    "Answer : 10\n",
    "'''\n",
    "\n",
    "def myFunction():\n",
    "    name=input(\"Enter your name:\")\n",
    "    age=int(input(\"Enter your age:\"))\n",
    "    print(f\"Hello {name}, you are {age} years old!\")\n",
    "\n",
    "myFunction()"
   ]
  },
  {
   "cell_type": "code",
   "execution_count": 12,
   "id": "4abb221d-1362-4513-8a80-e66525a3eacf",
   "metadata": {},
   "outputs": [
    {
     "name": "stdin",
     "output_type": "stream",
     "text": [
      "Enter fruit name: apple\n",
      "Enter fruit name: mango\n",
      "Enter fruit name: grapes\n",
      "Enter fruit name: orange\n",
      "Enter fruit name: pineapple\n"
     ]
    },
    {
     "name": "stdout",
     "output_type": "stream",
     "text": [
      "apple (position = 0)\n",
      "mango (position = 1)\n",
      "grapes (position = 2)\n",
      "orange (position = 3)\n",
      "pineapple (position = 4)\n"
     ]
    }
   ],
   "source": [
    "'''\n",
    "Answer :11\n",
    "'''\n",
    "fruit_list=[]\n",
    "for i in range(5):\n",
    "    current_fruit=input(\"Enter fruit name:\")\n",
    "    fruit_list.append(current_fruit)\n",
    "for i in range(5):\n",
    "    print(f\"{fruit_list[i]} (position = {i})\")\n",
    "    \n",
    "    "
   ]
  },
  {
   "cell_type": "code",
   "execution_count": 14,
   "id": "0ef68b05-74b3-45b3-9459-9dd4e1831ef4",
   "metadata": {},
   "outputs": [
    {
     "name": "stdout",
     "output_type": "stream",
     "text": [
      "Grade for maked 92 =A\n",
      "Grade for maked 87 =B\n",
      "Grade for maked 65 =D\n"
     ]
    }
   ],
   "source": [
    "'''\n",
    "Answer :12\n",
    "'''\n",
    "def grade_calculator(score):\n",
    "    if score>0 and score<=100:\n",
    "        if score>=90 and score<=100:\n",
    "            return 'A'\n",
    "        elif score>=80 and score<90:\n",
    "            return 'B'\n",
    "        elif score>=70 and score<80:\n",
    "            return 'C'\n",
    "        elif score>=60 and score<70:\n",
    "            return 'D'\n",
    "        elif score<60:\n",
    "            return 'F'\n",
    "    else:\n",
    "        return 'Invalid marks'\n",
    "\n",
    "print(f\"Grade for maked 92 = {grade_calculator(92)}\")\n",
    "print(f\"Grade for maked 87 = {grade_calculator(87)}\")\n",
    "print(f\"Grade for maked 65 = {grade_calculator(65)}\")"
   ]
  },
  {
   "cell_type": "code",
   "execution_count": 17,
   "id": "c2c03261-44c0-4b61-a4d1-6ea7d91640f1",
   "metadata": {},
   "outputs": [
    {
     "name": "stdout",
     "output_type": "stream",
     "text": [
      "File creation is successfully\n",
      "Sum = 45\n",
      "Result successfully inserted in file\n"
     ]
    }
   ],
   "source": [
    "'''\n",
    "Answer :13\n",
    "'''\n",
    "#creating a file that stores the numbers\n",
    "newFile = open(\"number.txt\",\"w\")\n",
    "for i in range(10):\n",
    "    newFile.write(str(i))\n",
    "    newFile.write(\"\\n\")\n",
    "newFile.close()\n",
    "print(\"File creation is successfully\")\n",
    "\n",
    "#Calculating sum of numbers:\n",
    "myFile = open(\"number.txt\",\"r\")\n",
    "fileContent = myFile.readlines()\n",
    "no_of_element= len(fileContent)\n",
    "sum=0\n",
    "for i in range(no_of_element):\n",
    "    current_number=int(fileContent[i])\n",
    "    sum=sum+current_number\n",
    "print(\"Sum =\",sum)\n",
    "\n",
    "\n",
    "#creating a new file that stores the result\n",
    "result_file=open(\"result.txt\",\"w\")\n",
    "result_file.write(str(sum))\n",
    "print(\"Result successfully inserted in file\")\n",
    "result_file.close()\n",
    "\n"
   ]
  },
  {
   "cell_type": "code",
   "execution_count": 38,
   "id": "deec8079-6f2d-4a2d-9030-7f351f96680f",
   "metadata": {},
   "outputs": [
    {
     "name": "stdin",
     "output_type": "stream",
     "text": [
      "Enter your Name: ayush\n"
     ]
    },
    {
     "ename": "NameError",
     "evalue": "name 'getBalance' is not defined",
     "output_type": "error",
     "traceback": [
      "\u001b[1;31m---------------------------------------------------------------------------\u001b[0m",
      "\u001b[1;31mNameError\u001b[0m                                 Traceback (most recent call last)",
      "Cell \u001b[1;32mIn[38], line 30\u001b[0m\n\u001b[0;32m     27\u001b[0m         \u001b[38;5;28mprint\u001b[39m(\u001b[38;5;124mf\u001b[39m\u001b[38;5;124m\"\u001b[39m\u001b[38;5;124mYour current balance is \u001b[39m\u001b[38;5;132;01m{\u001b[39;00mbalance\u001b[38;5;132;01m}\u001b[39;00m\u001b[38;5;124m\"\u001b[39m)    \n\u001b[0;32m     29\u001b[0m ayush \u001b[38;5;241m=\u001b[39m BankAccount()\n\u001b[1;32m---> 30\u001b[0m ayush\u001b[38;5;241m.\u001b[39mdepositMoney(\u001b[38;5;241m10000\u001b[39m)\n\u001b[0;32m     31\u001b[0m ayush\u001b[38;5;241m.\u001b[39mwithDrawMoney(\u001b[38;5;241m7000\u001b[39m)\n\u001b[0;32m     32\u001b[0m ayush\u001b[38;5;241m.\u001b[39mwithDrawMoney(\u001b[38;5;241m15000\u001b[39m)\n",
      "Cell \u001b[1;32mIn[38], line 14\u001b[0m, in \u001b[0;36mBankAccount.depositMoney\u001b[1;34m(self, amount)\u001b[0m\n\u001b[0;32m     13\u001b[0m \u001b[38;5;28;01mdef\u001b[39;00m\u001b[38;5;250m \u001b[39m\u001b[38;5;21mdepositMoney\u001b[39m(\u001b[38;5;28mself\u001b[39m,amount):\n\u001b[1;32m---> 14\u001b[0m     balance\u001b[38;5;241m=\u001b[39mgetBalance()\n\u001b[0;32m     15\u001b[0m     balance\u001b[38;5;241m=\u001b[39mbalance\u001b[38;5;241m+\u001b[39mamount\n\u001b[0;32m     16\u001b[0m     \u001b[38;5;28mprint\u001b[39m(\u001b[38;5;124m\"\u001b[39m\u001b[38;5;124mMoney deposit successfully\u001b[39m\u001b[38;5;124m\"\u001b[39m)\n",
      "\u001b[1;31mNameError\u001b[0m: name 'getBalance' is not defined"
     ]
    }
   ],
   "source": [
    "'''\n",
    "Answer : 14\n",
    "'''\n",
    "\n",
    "class BankAccount:\n",
    "    name=\"\"\n",
    "    balance=0.0\n",
    "    def __init__(self):\n",
    "        name=input(\"Enter your Name:\")\n",
    "        #starting balance\n",
    "        balance=10000\n",
    "\n",
    "    def depositMoney(self,amount):\n",
    "        balance=getBalance()\n",
    "        balance=balance+amount\n",
    "        print(\"Money deposit successfully\")\n",
    "    def withDrawMoney(self,amount):\n",
    "        balance=getBalance()\n",
    "        if amount<balance:\n",
    "            balance=balance-amount\n",
    "            print(\"Money withdraw successfully...\")\n",
    "        else:\n",
    "            print(\"Insufficient balance\")\n",
    "    def getBalance(self):\n",
    "        return currentBalance\n",
    "    def currentBalance(self):\n",
    "        print(f\"Your current balance is {balance}\")    \n",
    "            \n",
    "ayush = BankAccount()\n",
    "ayush.depositMoney(10000)\n",
    "ayush.withDrawMoney(7000)\n",
    "ayush.withDrawMoney(15000)\n",
    "ayush.currentBalance()"
   ]
  },
  {
   "cell_type": "code",
   "execution_count": 33,
   "id": "78dabe69-1041-4c67-b5d0-db61d9e6d277",
   "metadata": {},
   "outputs": [
    {
     "name": "stdout",
     "output_type": "stream",
     "text": [
      "0 is None\n",
      "1 is None\n",
      "2 is None\n",
      "3 is None\n",
      "4 is a prime Number\n",
      "5 is a prime Number\n",
      "6 is not a prime number\n",
      "7 is a prime Number\n",
      "8 is a prime Number\n",
      "9 is not a prime number\n",
      "10 is a prime Number\n",
      "11 is a prime Number\n",
      "12 is not a prime number\n",
      "13 is a prime Number\n",
      "14 is a prime Number\n",
      "15 is not a prime number\n",
      "16 is a prime Number\n",
      "17 is a prime Number\n",
      "18 is not a prime number\n",
      "19 is a prime Number\n",
      "20 is a prime Number\n",
      "21 is not a prime number\n",
      "22 is a prime Number\n",
      "23 is a prime Number\n",
      "24 is not a prime number\n",
      "25 is a prime Number\n",
      "26 is a prime Number\n",
      "27 is not a prime number\n",
      "28 is a prime Number\n",
      "29 is a prime Number\n",
      "30 is not a prime number\n",
      "31 is a prime Number\n",
      "32 is a prime Number\n",
      "33 is not a prime number\n",
      "34 is a prime Number\n",
      "35 is a prime Number\n",
      "36 is not a prime number\n",
      "37 is a prime Number\n",
      "38 is a prime Number\n",
      "39 is not a prime number\n",
      "40 is a prime Number\n",
      "41 is a prime Number\n",
      "42 is not a prime number\n",
      "43 is a prime Number\n",
      "44 is a prime Number\n",
      "45 is not a prime number\n",
      "46 is a prime Number\n",
      "47 is a prime Number\n",
      "48 is not a prime number\n",
      "49 is a prime Number\n",
      "50 is a prime Number\n"
     ]
    }
   ],
   "source": [
    "'''\n",
    "Answer 15:-\n",
    "'''\n",
    "\n",
    "def prime(x):\n",
    "    for i in range(3,x):\n",
    "        if x%i==0:\n",
    "            return \"not a prime number\"\n",
    "        else:\n",
    "            return \"a prime Number\"\n",
    "\n",
    "for i in range(51):\n",
    "    print(f\"{i} is {prime(i)}\")"
   ]
  },
  {
   "cell_type": "code",
   "execution_count": null,
   "id": "d3063709-4cad-4fa9-8803-43f192f79cfb",
   "metadata": {},
   "outputs": [],
   "source": []
  },
  {
   "cell_type": "code",
   "execution_count": null,
   "id": "33f982c3-05f6-4de2-af80-3006959a7f04",
   "metadata": {},
   "outputs": [],
   "source": []
  }
 ],
 "metadata": {
  "kernelspec": {
   "display_name": "Python [conda env:base] *",
   "language": "python",
   "name": "conda-base-py"
  },
  "language_info": {
   "codemirror_mode": {
    "name": "ipython",
    "version": 3
   },
   "file_extension": ".py",
   "mimetype": "text/x-python",
   "name": "python",
   "nbconvert_exporter": "python",
   "pygments_lexer": "ipython3",
   "version": "3.13.5"
  }
 },
 "nbformat": 4,
 "nbformat_minor": 5
}
