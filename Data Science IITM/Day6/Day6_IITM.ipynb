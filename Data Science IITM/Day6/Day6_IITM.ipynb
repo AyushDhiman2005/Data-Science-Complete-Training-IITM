{
 "cells": [
  {
   "cell_type": "code",
   "execution_count": null,
   "id": "e034aa01-e9d6-43e4-b288-5502d0d7b0b7",
   "metadata": {},
   "outputs": [],
   "source": []
  }
 ],
 "metadata": {
  "kernelspec": {
   "display_name": "Python [conda env:base] *",
   "language": "python",
   "name": "conda-base-py"
  },
  "language_info": {
   "codemirror_mode": {
    "name": "ipython",
    "version": 3
   },
   "file_extension": ".py",
   "mimetype": "text/x-python",
   "name": "python",
   "nbconvert_exporter": "python",
   "pygments_lexer": "ipython3",
   "version": "3.13.5"
  }
 },
 "nbformat": 4,
 "nbformat_minor": 5
}
