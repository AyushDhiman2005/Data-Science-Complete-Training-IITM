{
 "cells": [
  {
   "cell_type": "code",
   "execution_count": 2,
   "id": "2375c54a-04d2-41d6-9df9-e56788a93d87",
   "metadata": {},
   "outputs": [
    {
     "name": "stdout",
     "output_type": "stream",
     "text": [
      "Done\n"
     ]
    }
   ],
   "source": [
    "import pymysql as py\n",
    "print(\"Done\")"
   ]
  },
  {
   "cell_type": "code",
   "execution_count": 3,
   "id": "e0f9f1e5-7468-4821-9ffb-a827379f882d",
   "metadata": {},
   "outputs": [
    {
     "name": "stdout",
     "output_type": "stream",
     "text": [
      "Connection established successfully\n"
     ]
    }
   ],
   "source": [
    "# user = \"root\"\n",
    "# password = \"ayush\"\n",
    "\n",
    "conn=py.connect(user=\"root\",password=\"ayush\",host=\"localhost\",autocommit=True)\n",
    "\n",
    "print(\"Connection established successfully\")"
   ]
  },
  {
   "cell_type": "code",
   "execution_count": 4,
   "id": "d6b155df-3c5d-4c09-8cc4-e1ef61de4c69",
   "metadata": {},
   "outputs": [
    {
     "name": "stdout",
     "output_type": "stream",
     "text": [
      "Done\n"
     ]
    }
   ],
   "source": [
    "cur = conn.cursor()\n",
    "print(\"Done\")"
   ]
  },
  {
   "cell_type": "code",
   "execution_count": 5,
   "id": "1568bd9d-c87a-49ef-9e2c-89041fba91cb",
   "metadata": {},
   "outputs": [
    {
     "name": "stdout",
     "output_type": "stream",
     "text": [
      "Done\n"
     ]
    }
   ],
   "source": [
    "#First query to create a database\n",
    "\n",
    "query1 = '''\n",
    "create database iitmDay5;\n",
    "\n",
    "\n",
    "'''\n",
    "cur.execute(query1)\n",
    "print(\"Done\")\n"
   ]
  },
  {
   "cell_type": "code",
   "execution_count": 6,
   "id": "1c6f4e28-95be-4996-bce8-91835186c167",
   "metadata": {},
   "outputs": [
    {
     "name": "stdout",
     "output_type": "stream",
     "text": [
      "Done\n"
     ]
    }
   ],
   "source": [
    "#Second query to use a database\n",
    "\n",
    "query2='''\n",
    "use iitmDay5;\n",
    "\n",
    "'''\n",
    "cur.execute(query2)\n",
    "print(\"Done\")\n"
   ]
  },
  {
   "cell_type": "code",
   "execution_count": null,
   "id": "e4e38f70-83cc-4443-8dbc-d76ff4a3f240",
   "metadata": {},
   "outputs": [],
   "source": [
    "#Third query to create a table\n",
    "\n",
    "query3 = '''\n",
    "create table student_details\n",
    "(\n",
    "s_id int not null, \n",
    "s_name varchar(40),\n",
    "s_course varchar(40),\n",
    "s_address varchar(80),\n",
    "scholarship float\n",
    ");\n",
    "'''\n",
    "\n",
    "cur.execute(query3)\n",
    "print(\"Done\")"
   ]
  },
  {
   "cell_type": "code",
   "execution_count": 18,
   "id": "febb499f-5dfb-4ff0-8eb3-55dbab0d478b",
   "metadata": {},
   "outputs": [
    {
     "name": "stdout",
     "output_type": "stream",
     "text": [
      "Done\n"
     ]
    }
   ],
   "source": [
    "query4 = '''\n",
    "insert into student_details\n",
    "values\n",
    "(102,\"Sohan Sharma\",\"BBA\",\"Chandighar\",7000.0);\n",
    "\n",
    "'''\n",
    "\n",
    "cur.execute(query4)\n",
    "print(\"Done\")"
   ]
  },
  {
   "cell_type": "code",
   "execution_count": 22,
   "id": "2f1f8423-87ff-4b46-aaf7-48c9fcd5d727",
   "metadata": {},
   "outputs": [
    {
     "name": "stdout",
     "output_type": "stream",
     "text": [
      "Done\n"
     ]
    }
   ],
   "source": [
    "query5 = '''\n",
    "insert into student_details\n",
    "values\n",
    "(103,\"Tilak Verma\",\"BCA\",\"Mayapuri\",4500.0),\n",
    "(104,\"Somya\",\"Bcom\",\"Noida\",6000.0);\n",
    "'''\n",
    "\n",
    "cur.execute(query5)\n",
    "print(\"Done\")"
   ]
  },
  {
   "cell_type": "code",
   "execution_count": 33,
   "id": "11056c84-37ea-4852-80b0-df2441f4a6bd",
   "metadata": {},
   "outputs": [
    {
     "name": "stdin",
     "output_type": "stream",
     "text": [
      "Enter Student ID: 11\n",
      "Enter your name: Harsh\n",
      "Enter your course: BCA\n",
      "Enter your Address: Shakurpur\n",
      "Enter scholarship : 6600\n"
     ]
    },
    {
     "name": "stdout",
     "output_type": "stream",
     "text": [
      "Record Insert Successfully\n"
     ]
    },
    {
     "name": "stdin",
     "output_type": "stream",
     "text": [
      "Enter Student ID: 12\n",
      "Enter your name: cheteneya\n",
      "Enter your course: BCA\n",
      "Enter your Address: Saket\n",
      "Enter scholarship : 7700\n"
     ]
    },
    {
     "name": "stdout",
     "output_type": "stream",
     "text": [
      "Record Insert Successfully\n"
     ]
    },
    {
     "name": "stdin",
     "output_type": "stream",
     "text": [
      "Enter Student ID: 13\n",
      "Enter your name: choudhary\n",
      "Enter your course: BCA\n",
      "Enter your Address: Rohini\n",
      "Enter scholarship : 8200\n"
     ]
    },
    {
     "name": "stdout",
     "output_type": "stream",
     "text": [
      "Record Insert Successfully\n",
      "Done\n"
     ]
    }
   ],
   "source": [
    "n=3\n",
    "for i in range(n):\n",
    "    stuID= int(input(\"Enter Student ID:\"))\n",
    "    stuName=input(\"Enter your name:\")\n",
    "    stuCourse=input(\"Enter your course:\")\n",
    "    stuAddress=input(\"Enter your Address:\")\n",
    "    stuScholarship=float(input(\"Enter scholarship :\"))\n",
    "    \n",
    "    query=f'''\n",
    "    insert into student_details\n",
    "    values\n",
    "    ({stuID},\"{stuName}\",\"{stuCourse}\",\"{stuAddress}\",{stuScholarship});\n",
    "    '''\n",
    "    cur.execute(query)\n",
    "    print(\"Record Insert Successfully\")\n",
    "print(\"Done\")"
   ]
  },
  {
   "cell_type": "code",
   "execution_count": 36,
   "id": "1b714af3-9150-4220-9880-0552b1c22182",
   "metadata": {},
   "outputs": [
    {
     "data": {
      "text/html": [
       "<div>\n",
       "<style scoped>\n",
       "    .dataframe tbody tr th:only-of-type {\n",
       "        vertical-align: middle;\n",
       "    }\n",
       "\n",
       "    .dataframe tbody tr th {\n",
       "        vertical-align: top;\n",
       "    }\n",
       "\n",
       "    .dataframe thead th {\n",
       "        text-align: right;\n",
       "    }\n",
       "</style>\n",
       "<table border=\"1\" class=\"dataframe\">\n",
       "  <thead>\n",
       "    <tr style=\"text-align: right;\">\n",
       "      <th></th>\n",
       "      <th>0</th>\n",
       "      <th>1</th>\n",
       "      <th>2</th>\n",
       "      <th>3</th>\n",
       "      <th>4</th>\n",
       "    </tr>\n",
       "  </thead>\n",
       "  <tbody>\n",
       "    <tr>\n",
       "      <th>0</th>\n",
       "      <td>101</td>\n",
       "      <td>Mohan Sharma</td>\n",
       "      <td>BCA</td>\n",
       "      <td>Delhi</td>\n",
       "      <td>5000.0</td>\n",
       "    </tr>\n",
       "    <tr>\n",
       "      <th>1</th>\n",
       "      <td>102</td>\n",
       "      <td>Sohan Sharma</td>\n",
       "      <td>BBA</td>\n",
       "      <td>Chandighar</td>\n",
       "      <td>7000.0</td>\n",
       "    </tr>\n",
       "    <tr>\n",
       "      <th>2</th>\n",
       "      <td>103</td>\n",
       "      <td>Tilak Verma</td>\n",
       "      <td>BCA</td>\n",
       "      <td>Mayapuri</td>\n",
       "      <td>4500.0</td>\n",
       "    </tr>\n",
       "    <tr>\n",
       "      <th>3</th>\n",
       "      <td>104</td>\n",
       "      <td>Somya</td>\n",
       "      <td>Bcom</td>\n",
       "      <td>Noida</td>\n",
       "      <td>6000.0</td>\n",
       "    </tr>\n",
       "    <tr>\n",
       "      <th>4</th>\n",
       "      <td>105</td>\n",
       "      <td>105</td>\n",
       "      <td>1</td>\n",
       "      <td>1</td>\n",
       "      <td>1.0</td>\n",
       "    </tr>\n",
       "    <tr>\n",
       "      <th>5</th>\n",
       "      <td>1</td>\n",
       "      <td>1</td>\n",
       "      <td>1</td>\n",
       "      <td>1</td>\n",
       "      <td>1.0</td>\n",
       "    </tr>\n",
       "    <tr>\n",
       "      <th>6</th>\n",
       "      <td>109</td>\n",
       "      <td>Divyansh</td>\n",
       "      <td>BCA</td>\n",
       "      <td>Rohini</td>\n",
       "      <td>6700.0</td>\n",
       "    </tr>\n",
       "    <tr>\n",
       "      <th>7</th>\n",
       "      <td>110</td>\n",
       "      <td>Harsh</td>\n",
       "      <td>BBA</td>\n",
       "      <td>Pitampura</td>\n",
       "      <td>5600.0</td>\n",
       "    </tr>\n",
       "    <tr>\n",
       "      <th>8</th>\n",
       "      <td>11</td>\n",
       "      <td>Harsh</td>\n",
       "      <td>BCA</td>\n",
       "      <td>Shakurpur</td>\n",
       "      <td>6600.0</td>\n",
       "    </tr>\n",
       "    <tr>\n",
       "      <th>9</th>\n",
       "      <td>12</td>\n",
       "      <td>cheteneya</td>\n",
       "      <td>BCA</td>\n",
       "      <td>Saket</td>\n",
       "      <td>7700.0</td>\n",
       "    </tr>\n",
       "    <tr>\n",
       "      <th>10</th>\n",
       "      <td>13</td>\n",
       "      <td>choudhary</td>\n",
       "      <td>BCA</td>\n",
       "      <td>Rohini</td>\n",
       "      <td>8200.0</td>\n",
       "    </tr>\n",
       "  </tbody>\n",
       "</table>\n",
       "</div>"
      ],
      "text/plain": [
       "      0             1     2           3       4\n",
       "0   101  Mohan Sharma   BCA       Delhi  5000.0\n",
       "1   102  Sohan Sharma   BBA  Chandighar  7000.0\n",
       "2   103   Tilak Verma   BCA    Mayapuri  4500.0\n",
       "3   104         Somya  Bcom       Noida  6000.0\n",
       "4   105           105     1           1     1.0\n",
       "5     1             1     1           1     1.0\n",
       "6   109      Divyansh   BCA      Rohini  6700.0\n",
       "7   110         Harsh   BBA   Pitampura  5600.0\n",
       "8    11         Harsh   BCA   Shakurpur  6600.0\n",
       "9    12     cheteneya   BCA       Saket  7700.0\n",
       "10   13     choudhary   BCA      Rohini  8200.0"
      ]
     },
     "execution_count": 36,
     "metadata": {},
     "output_type": "execute_result"
    }
   ],
   "source": [
    " query7 = '''\n",
    " select * from student_details;\n",
    " \n",
    " \n",
    " '''\n",
    "cur.execute(query7)\n",
    "records = cur.fetchall()\n",
    "\n",
    "import pandas as pd\n",
    "pd.DataFrame(records)\n"
   ]
  },
  {
   "cell_type": "code",
   "execution_count": 47,
   "id": "5b5d53e2-4c53-462e-aa42-cf8d4e4b54c4",
   "metadata": {},
   "outputs": [
    {
     "name": "stdout",
     "output_type": "stream",
     "text": [
      "['s_id', 's_name', 's_course', 's_address', 'scholarship']\n"
     ]
    }
   ],
   "source": [
    "all_columns = []\n",
    "for i in cur.description:\n",
    "    current_column=i[0]\n",
    "    all_columns.append(current_column)\n",
    "print(all_columns)"
   ]
  },
  {
   "cell_type": "code",
   "execution_count": 49,
   "id": "e3f2a4c1-2d06-4df2-9a18-605f7f21be7d",
   "metadata": {},
   "outputs": [
    {
     "data": {
      "text/html": [
       "<div>\n",
       "<style scoped>\n",
       "    .dataframe tbody tr th:only-of-type {\n",
       "        vertical-align: middle;\n",
       "    }\n",
       "\n",
       "    .dataframe tbody tr th {\n",
       "        vertical-align: top;\n",
       "    }\n",
       "\n",
       "    .dataframe thead th {\n",
       "        text-align: right;\n",
       "    }\n",
       "</style>\n",
       "<table border=\"1\" class=\"dataframe\">\n",
       "  <thead>\n",
       "    <tr style=\"text-align: right;\">\n",
       "      <th></th>\n",
       "      <th>s_id</th>\n",
       "      <th>s_name</th>\n",
       "      <th>s_course</th>\n",
       "      <th>s_address</th>\n",
       "      <th>scholarship</th>\n",
       "    </tr>\n",
       "  </thead>\n",
       "  <tbody>\n",
       "    <tr>\n",
       "      <th>0</th>\n",
       "      <td>101</td>\n",
       "      <td>Mohan Sharma</td>\n",
       "      <td>BCA</td>\n",
       "      <td>Delhi</td>\n",
       "      <td>5000.0</td>\n",
       "    </tr>\n",
       "    <tr>\n",
       "      <th>1</th>\n",
       "      <td>102</td>\n",
       "      <td>Sohan Sharma</td>\n",
       "      <td>BBA</td>\n",
       "      <td>Chandighar</td>\n",
       "      <td>7000.0</td>\n",
       "    </tr>\n",
       "    <tr>\n",
       "      <th>2</th>\n",
       "      <td>103</td>\n",
       "      <td>Tilak Verma</td>\n",
       "      <td>BCA</td>\n",
       "      <td>Mayapuri</td>\n",
       "      <td>4500.0</td>\n",
       "    </tr>\n",
       "    <tr>\n",
       "      <th>3</th>\n",
       "      <td>104</td>\n",
       "      <td>Somya</td>\n",
       "      <td>Bcom</td>\n",
       "      <td>Noida</td>\n",
       "      <td>6000.0</td>\n",
       "    </tr>\n",
       "    <tr>\n",
       "      <th>4</th>\n",
       "      <td>105</td>\n",
       "      <td>105</td>\n",
       "      <td>1</td>\n",
       "      <td>1</td>\n",
       "      <td>1.0</td>\n",
       "    </tr>\n",
       "    <tr>\n",
       "      <th>5</th>\n",
       "      <td>1</td>\n",
       "      <td>1</td>\n",
       "      <td>1</td>\n",
       "      <td>1</td>\n",
       "      <td>1.0</td>\n",
       "    </tr>\n",
       "    <tr>\n",
       "      <th>6</th>\n",
       "      <td>109</td>\n",
       "      <td>Divyansh</td>\n",
       "      <td>BCA</td>\n",
       "      <td>Rohini</td>\n",
       "      <td>6700.0</td>\n",
       "    </tr>\n",
       "    <tr>\n",
       "      <th>7</th>\n",
       "      <td>110</td>\n",
       "      <td>Harsh</td>\n",
       "      <td>BBA</td>\n",
       "      <td>Pitampura</td>\n",
       "      <td>5600.0</td>\n",
       "    </tr>\n",
       "    <tr>\n",
       "      <th>8</th>\n",
       "      <td>11</td>\n",
       "      <td>Harsh</td>\n",
       "      <td>BCA</td>\n",
       "      <td>Shakurpur</td>\n",
       "      <td>6600.0</td>\n",
       "    </tr>\n",
       "    <tr>\n",
       "      <th>9</th>\n",
       "      <td>12</td>\n",
       "      <td>cheteneya</td>\n",
       "      <td>BCA</td>\n",
       "      <td>Saket</td>\n",
       "      <td>7700.0</td>\n",
       "    </tr>\n",
       "    <tr>\n",
       "      <th>10</th>\n",
       "      <td>13</td>\n",
       "      <td>choudhary</td>\n",
       "      <td>BCA</td>\n",
       "      <td>Rohini</td>\n",
       "      <td>8200.0</td>\n",
       "    </tr>\n",
       "  </tbody>\n",
       "</table>\n",
       "</div>"
      ],
      "text/plain": [
       "    s_id        s_name s_course   s_address  scholarship\n",
       "0    101  Mohan Sharma      BCA       Delhi       5000.0\n",
       "1    102  Sohan Sharma      BBA  Chandighar       7000.0\n",
       "2    103   Tilak Verma      BCA    Mayapuri       4500.0\n",
       "3    104         Somya     Bcom       Noida       6000.0\n",
       "4    105           105        1           1          1.0\n",
       "5      1             1        1           1          1.0\n",
       "6    109      Divyansh      BCA      Rohini       6700.0\n",
       "7    110         Harsh      BBA   Pitampura       5600.0\n",
       "8     11         Harsh      BCA   Shakurpur       6600.0\n",
       "9     12     cheteneya      BCA       Saket       7700.0\n",
       "10    13     choudhary      BCA      Rohini       8200.0"
      ]
     },
     "execution_count": 49,
     "metadata": {},
     "output_type": "execute_result"
    }
   ],
   "source": [
    " query7 = '''\n",
    " select * from student_details;\n",
    " \n",
    " \n",
    " '''\n",
    "cur.execute(query7)\n",
    "records = cur.fetchall()\n",
    "\n",
    "import pandas as pd\n",
    "df=pd.DataFrame(records,columns=all_columns)\n"
   ]
  },
  {
   "cell_type": "code",
   "execution_count": null,
   "id": "c1ba9d09-1bad-4ff1-ad48-a224bb0108ef",
   "metadata": {},
   "outputs": [],
   "source": [
    "\n",
    "\n"
   ]
  },
  {
   "cell_type": "code",
   "execution_count": 60,
   "id": "8c8d94e7-aa6b-45ae-9cb0-6cfa5143e4c3",
   "metadata": {},
   "outputs": [],
   "source": [
    "def showRecords(db,table):\n",
    "    \n",
    "    \n",
    "    query = f'''select * from {db}.{table};'''\n",
    "     \n",
    "     \n",
    "    cur.execute(query)\n",
    "    records = cur.fetchall()\n",
    "    \n",
    "    import pandas as pd\n",
    "    df=pd.DataFrame(records,columns=all_columns)\n",
    "    return df"
   ]
  },
  {
   "cell_type": "code",
   "execution_count": 61,
   "id": "f08d7344-259e-42ed-9b4e-aa30d3ce5b09",
   "metadata": {},
   "outputs": [
    {
     "data": {
      "text/html": [
       "<div>\n",
       "<style scoped>\n",
       "    .dataframe tbody tr th:only-of-type {\n",
       "        vertical-align: middle;\n",
       "    }\n",
       "\n",
       "    .dataframe tbody tr th {\n",
       "        vertical-align: top;\n",
       "    }\n",
       "\n",
       "    .dataframe thead th {\n",
       "        text-align: right;\n",
       "    }\n",
       "</style>\n",
       "<table border=\"1\" class=\"dataframe\">\n",
       "  <thead>\n",
       "    <tr style=\"text-align: right;\">\n",
       "      <th></th>\n",
       "      <th>s_id</th>\n",
       "      <th>s_name</th>\n",
       "      <th>s_course</th>\n",
       "      <th>s_address</th>\n",
       "      <th>scholarship</th>\n",
       "    </tr>\n",
       "  </thead>\n",
       "  <tbody>\n",
       "    <tr>\n",
       "      <th>0</th>\n",
       "      <td>101</td>\n",
       "      <td>Mohan Sharma</td>\n",
       "      <td>BCA</td>\n",
       "      <td>Delhi</td>\n",
       "      <td>5000.0</td>\n",
       "    </tr>\n",
       "    <tr>\n",
       "      <th>1</th>\n",
       "      <td>102</td>\n",
       "      <td>Sohan Sharma</td>\n",
       "      <td>BBA</td>\n",
       "      <td>Chandighar</td>\n",
       "      <td>7000.0</td>\n",
       "    </tr>\n",
       "    <tr>\n",
       "      <th>2</th>\n",
       "      <td>103</td>\n",
       "      <td>Tilak Verma</td>\n",
       "      <td>BCA</td>\n",
       "      <td>Mayapuri</td>\n",
       "      <td>4500.0</td>\n",
       "    </tr>\n",
       "    <tr>\n",
       "      <th>3</th>\n",
       "      <td>104</td>\n",
       "      <td>Somya</td>\n",
       "      <td>Bcom</td>\n",
       "      <td>Noida</td>\n",
       "      <td>6000.0</td>\n",
       "    </tr>\n",
       "    <tr>\n",
       "      <th>4</th>\n",
       "      <td>105</td>\n",
       "      <td>105</td>\n",
       "      <td>1</td>\n",
       "      <td>1</td>\n",
       "      <td>1.0</td>\n",
       "    </tr>\n",
       "    <tr>\n",
       "      <th>5</th>\n",
       "      <td>1</td>\n",
       "      <td>1</td>\n",
       "      <td>1</td>\n",
       "      <td>1</td>\n",
       "      <td>1.0</td>\n",
       "    </tr>\n",
       "    <tr>\n",
       "      <th>6</th>\n",
       "      <td>109</td>\n",
       "      <td>Divyansh</td>\n",
       "      <td>BCA</td>\n",
       "      <td>Rohini</td>\n",
       "      <td>6700.0</td>\n",
       "    </tr>\n",
       "    <tr>\n",
       "      <th>7</th>\n",
       "      <td>110</td>\n",
       "      <td>Harsh</td>\n",
       "      <td>BBA</td>\n",
       "      <td>Pitampura</td>\n",
       "      <td>5600.0</td>\n",
       "    </tr>\n",
       "    <tr>\n",
       "      <th>8</th>\n",
       "      <td>11</td>\n",
       "      <td>Harsh</td>\n",
       "      <td>BCA</td>\n",
       "      <td>Shakurpur</td>\n",
       "      <td>6600.0</td>\n",
       "    </tr>\n",
       "    <tr>\n",
       "      <th>9</th>\n",
       "      <td>12</td>\n",
       "      <td>cheteneya</td>\n",
       "      <td>BCA</td>\n",
       "      <td>Saket</td>\n",
       "      <td>7700.0</td>\n",
       "    </tr>\n",
       "    <tr>\n",
       "      <th>10</th>\n",
       "      <td>13</td>\n",
       "      <td>choudhary</td>\n",
       "      <td>BCA</td>\n",
       "      <td>Rohini</td>\n",
       "      <td>8200.0</td>\n",
       "    </tr>\n",
       "  </tbody>\n",
       "</table>\n",
       "</div>"
      ],
      "text/plain": [
       "    s_id        s_name s_course   s_address  scholarship\n",
       "0    101  Mohan Sharma      BCA       Delhi       5000.0\n",
       "1    102  Sohan Sharma      BBA  Chandighar       7000.0\n",
       "2    103   Tilak Verma      BCA    Mayapuri       4500.0\n",
       "3    104         Somya     Bcom       Noida       6000.0\n",
       "4    105           105        1           1          1.0\n",
       "5      1             1        1           1          1.0\n",
       "6    109      Divyansh      BCA      Rohini       6700.0\n",
       "7    110         Harsh      BBA   Pitampura       5600.0\n",
       "8     11         Harsh      BCA   Shakurpur       6600.0\n",
       "9     12     cheteneya      BCA       Saket       7700.0\n",
       "10    13     choudhary      BCA      Rohini       8200.0"
      ]
     },
     "execution_count": 61,
     "metadata": {},
     "output_type": "execute_result"
    }
   ],
   "source": [
    "showRecords(\"iitmday5\",\"student_details\")"
   ]
  },
  {
   "cell_type": "code",
   "execution_count": null,
   "id": "7c0387ab-2672-466c-9372-8456a5dadc70",
   "metadata": {},
   "outputs": [],
   "source": []
  }
 ],
 "metadata": {
  "kernelspec": {
   "display_name": "Python [conda env:base] *",
   "language": "python",
   "name": "conda-base-py"
  },
  "language_info": {
   "codemirror_mode": {
    "name": "ipython",
    "version": 3
   },
   "file_extension": ".py",
   "mimetype": "text/x-python",
   "name": "python",
   "nbconvert_exporter": "python",
   "pygments_lexer": "ipython3",
   "version": "3.13.5"
  }
 },
 "nbformat": 4,
 "nbformat_minor": 5
}
